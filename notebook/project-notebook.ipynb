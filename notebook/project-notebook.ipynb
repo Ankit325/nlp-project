{
 "cells": [
  {
   "cell_type": "code",
   "execution_count": 2,
   "id": "f5b20e67",
   "metadata": {},
   "outputs": [
    {
     "name": "stdout",
     "output_type": "stream",
     "text": [
      "Requirement already satisfied: eli5 in c:\\users\\ankit\\anaconda3\\envs\\tf\\lib\\site-packages (0.11.0)\n",
      "Requirement already satisfied: lime in c:\\users\\ankit\\anaconda3\\envs\\tf\\lib\\site-packages (0.2.0.1)\n",
      "Requirement already satisfied: dalex in c:\\users\\ankit\\anaconda3\\envs\\tf\\lib\\site-packages (1.4.1)\n",
      "Requirement already satisfied: neattext in c:\\users\\ankit\\anaconda3\\envs\\tf\\lib\\site-packages (0.1.3)\n",
      "Requirement already satisfied: spacy in c:\\users\\ankit\\anaconda3\\envs\\tf\\lib\\site-packages (3.2.4)\n",
      "Requirement already satisfied: seaborn in c:\\users\\ankit\\anaconda3\\envs\\tf\\lib\\site-packages (0.11.2)\n",
      "Requirement already satisfied: altair in c:\\users\\ankit\\anaconda3\\envs\\tf\\lib\\site-packages (4.2.0)\n",
      "Requirement already satisfied: streamlit in c:\\users\\ankit\\anaconda3\\envs\\tf\\lib\\site-packages (1.8.1)\n",
      "Requirement already satisfied: scikit-learn in c:\\users\\ankit\\anaconda3\\envs\\tf\\lib\\site-packages (1.0.2)\n",
      "Requirement already satisfied: numpy>=1.9.0 in c:\\users\\ankit\\anaconda3\\envs\\tf\\lib\\site-packages (from eli5) (1.22.3)\n",
      "Requirement already satisfied: tabulate>=0.7.7 in c:\\users\\ankit\\anaconda3\\envs\\tf\\lib\\site-packages (from eli5) (0.8.9)\n",
      "Requirement already satisfied: graphviz in c:\\users\\ankit\\anaconda3\\envs\\tf\\lib\\site-packages (from eli5) (0.20)\n",
      "Requirement already satisfied: scipy in c:\\users\\ankit\\anaconda3\\envs\\tf\\lib\\site-packages (from eli5) (1.7.3)\n",
      "Requirement already satisfied: six in c:\\users\\ankit\\anaconda3\\envs\\tf\\lib\\site-packages (from eli5) (1.16.0)\n",
      "Requirement already satisfied: attrs>16.0.0 in c:\\users\\ankit\\anaconda3\\envs\\tf\\lib\\site-packages (from eli5) (21.4.0)\n",
      "Requirement already satisfied: jinja2 in c:\\users\\ankit\\anaconda3\\envs\\tf\\lib\\site-packages (from eli5) (3.1.1)\n",
      "Requirement already satisfied: matplotlib in c:\\users\\ankit\\anaconda3\\envs\\tf\\lib\\site-packages (from lime) (3.5.1)\n",
      "Requirement already satisfied: scikit-image>=0.12 in c:\\users\\ankit\\anaconda3\\envs\\tf\\lib\\site-packages (from lime) (0.19.2)\n",
      "Requirement already satisfied: tqdm in c:\\users\\ankit\\anaconda3\\envs\\tf\\lib\\site-packages (from lime) (4.64.0)\n",
      "Requirement already satisfied: plotly>=4.12.0 in c:\\users\\ankit\\anaconda3\\envs\\tf\\lib\\site-packages (from dalex) (5.7.0)\n",
      "Requirement already satisfied: pandas>=1.1.2 in c:\\users\\ankit\\anaconda3\\envs\\tf\\lib\\site-packages (from dalex) (1.4.2)\n",
      "Requirement already satisfied: setuptools in c:\\users\\ankit\\anaconda3\\envs\\tf\\lib\\site-packages (from dalex) (58.0.4)\n",
      "Requirement already satisfied: murmurhash<1.1.0,>=0.28.0 in c:\\users\\ankit\\anaconda3\\envs\\tf\\lib\\site-packages (from spacy) (1.0.6)\n",
      "Requirement already satisfied: preshed<3.1.0,>=3.0.2 in c:\\users\\ankit\\anaconda3\\envs\\tf\\lib\\site-packages (from spacy) (3.0.6)\n",
      "Requirement already satisfied: requests<3.0.0,>=2.13.0 in c:\\users\\ankit\\anaconda3\\envs\\tf\\lib\\site-packages (from spacy) (2.27.1)\n",
      "Requirement already satisfied: spacy-legacy<3.1.0,>=3.0.8 in c:\\users\\ankit\\anaconda3\\envs\\tf\\lib\\site-packages (from spacy) (3.0.9)\n",
      "Requirement already satisfied: spacy-loggers<2.0.0,>=1.0.0 in c:\\users\\ankit\\anaconda3\\envs\\tf\\lib\\site-packages (from spacy) (1.0.2)\n",
      "Requirement already satisfied: pydantic!=1.8,!=1.8.1,<1.9.0,>=1.7.4 in c:\\users\\ankit\\anaconda3\\envs\\tf\\lib\\site-packages (from spacy) (1.8.2)\n",
      "Requirement already satisfied: catalogue<2.1.0,>=2.0.6 in c:\\users\\ankit\\anaconda3\\envs\\tf\\lib\\site-packages (from spacy) (2.0.7)\n",
      "Requirement already satisfied: pathy>=0.3.5 in c:\\users\\ankit\\anaconda3\\envs\\tf\\lib\\site-packages (from spacy) (0.6.1)\n",
      "Requirement already satisfied: packaging>=20.0 in c:\\users\\ankit\\anaconda3\\envs\\tf\\lib\\site-packages (from spacy) (21.3)\n",
      "Requirement already satisfied: srsly<3.0.0,>=2.4.1 in c:\\users\\ankit\\anaconda3\\envs\\tf\\lib\\site-packages (from spacy) (2.4.3)\n",
      "Requirement already satisfied: click<8.1.0 in c:\\users\\ankit\\anaconda3\\envs\\tf\\lib\\site-packages (from spacy) (8.0.4)\n",
      "Requirement already satisfied: typer<0.5.0,>=0.3.0 in c:\\users\\ankit\\anaconda3\\envs\\tf\\lib\\site-packages (from spacy) (0.4.1)\n",
      "Requirement already satisfied: blis<0.8.0,>=0.4.0 in c:\\users\\ankit\\anaconda3\\envs\\tf\\lib\\site-packages (from spacy) (0.7.7)\n",
      "Requirement already satisfied: wasabi<1.1.0,>=0.8.1 in c:\\users\\ankit\\anaconda3\\envs\\tf\\lib\\site-packages (from spacy) (0.9.1)\n",
      "Requirement already satisfied: cymem<2.1.0,>=2.0.2 in c:\\users\\ankit\\anaconda3\\envs\\tf\\lib\\site-packages (from spacy) (2.0.6)\n",
      "Requirement already satisfied: langcodes<4.0.0,>=3.2.0 in c:\\users\\ankit\\anaconda3\\envs\\tf\\lib\\site-packages (from spacy) (3.3.0)\n",
      "Requirement already satisfied: thinc<8.1.0,>=8.0.12 in c:\\users\\ankit\\anaconda3\\envs\\tf\\lib\\site-packages (from spacy) (8.0.15)\n",
      "Requirement already satisfied: jsonschema>=3.0 in c:\\users\\ankit\\anaconda3\\envs\\tf\\lib\\site-packages (from altair) (4.4.0)\n",
      "Requirement already satisfied: entrypoints in c:\\users\\ankit\\anaconda3\\envs\\tf\\lib\\site-packages (from altair) (0.4)\n",
      "Requirement already satisfied: toolz in c:\\users\\ankit\\anaconda3\\envs\\tf\\lib\\site-packages (from altair) (0.11.2)\n",
      "Requirement already satisfied: tzlocal in c:\\users\\ankit\\anaconda3\\envs\\tf\\lib\\site-packages (from streamlit) (4.2)\n",
      "Requirement already satisfied: semver in c:\\users\\ankit\\anaconda3\\envs\\tf\\lib\\site-packages (from streamlit) (2.13.0)\n",
      "Requirement already satisfied: toml in c:\\users\\ankit\\anaconda3\\envs\\tf\\lib\\site-packages (from streamlit) (0.10.2)\n",
      "Requirement already satisfied: pydeck>=0.1.dev5 in c:\\users\\ankit\\anaconda3\\envs\\tf\\lib\\site-packages (from streamlit) (0.7.1)\n",
      "Requirement already satisfied: python-dateutil in c:\\users\\ankit\\anaconda3\\envs\\tf\\lib\\site-packages (from streamlit) (2.8.2)\n",
      "Requirement already satisfied: pyarrow in c:\\users\\ankit\\anaconda3\\envs\\tf\\lib\\site-packages (from streamlit) (7.0.0)\n",
      "Requirement already satisfied: protobuf!=3.11,>=3.6.0 in c:\\users\\ankit\\anaconda3\\envs\\tf\\lib\\site-packages (from streamlit) (3.14.0)\n",
      "Requirement already satisfied: watchdog in c:\\users\\ankit\\anaconda3\\envs\\tf\\lib\\site-packages (from streamlit) (2.1.7)\n",
      "Requirement already satisfied: importlib-metadata>=1.4 in c:\\users\\ankit\\anaconda3\\envs\\tf\\lib\\site-packages (from streamlit) (4.8.2)\n",
      "Requirement already satisfied: gitpython!=3.1.19 in c:\\users\\ankit\\anaconda3\\envs\\tf\\lib\\site-packages (from streamlit) (3.1.27)\n",
      "Requirement already satisfied: blinker in c:\\users\\ankit\\anaconda3\\envs\\tf\\lib\\site-packages (from streamlit) (1.4)\n",
      "Requirement already satisfied: validators in c:\\users\\ankit\\anaconda3\\envs\\tf\\lib\\site-packages (from streamlit) (0.18.2)\n",
      "Requirement already satisfied: cachetools>=4.0 in c:\\users\\ankit\\anaconda3\\envs\\tf\\lib\\site-packages (from streamlit) (5.0.0)\n",
      "Requirement already satisfied: pillow>=6.2.0 in c:\\users\\ankit\\anaconda3\\envs\\tf\\lib\\site-packages (from streamlit) (9.1.0)\n",
      "Requirement already satisfied: pympler>=0.9 in c:\\users\\ankit\\anaconda3\\envs\\tf\\lib\\site-packages (from streamlit) (1.0.1)\n",
      "Requirement already satisfied: tornado>=5.0 in c:\\users\\ankit\\anaconda3\\envs\\tf\\lib\\site-packages (from streamlit) (6.1)\n",
      "Requirement already satisfied: joblib>=0.11 in c:\\users\\ankit\\anaconda3\\envs\\tf\\lib\\site-packages (from scikit-learn) (1.1.0)\n",
      "Requirement already satisfied: threadpoolctl>=2.0.0 in c:\\users\\ankit\\anaconda3\\envs\\tf\\lib\\site-packages (from scikit-learn) (3.1.0)\n",
      "Requirement already satisfied: colorama in c:\\users\\ankit\\anaconda3\\envs\\tf\\lib\\site-packages (from click<8.1.0->spacy) (0.4.4)\n",
      "Requirement already satisfied: gitdb<5,>=4.0.1 in c:\\users\\ankit\\anaconda3\\envs\\tf\\lib\\site-packages (from gitpython!=3.1.19->streamlit) (4.0.9)\n",
      "Requirement already satisfied: smmap<6,>=3.0.1 in c:\\users\\ankit\\anaconda3\\envs\\tf\\lib\\site-packages (from gitdb<5,>=4.0.1->gitpython!=3.1.19->streamlit) (5.0.0)\n",
      "Requirement already satisfied: zipp>=0.5 in c:\\users\\ankit\\anaconda3\\envs\\tf\\lib\\site-packages (from importlib-metadata>=1.4->streamlit) (3.7.0)\n",
      "Requirement already satisfied: pyrsistent!=0.17.0,!=0.17.1,!=0.17.2,>=0.14.0 in c:\\users\\ankit\\anaconda3\\envs\\tf\\lib\\site-packages (from jsonschema>=3.0->altair) (0.18.1)\n",
      "Requirement already satisfied: fonttools>=4.22.0 in c:\\users\\ankit\\anaconda3\\envs\\tf\\lib\\site-packages (from matplotlib->lime) (4.31.2)\n",
      "Requirement already satisfied: pyparsing>=2.2.1 in c:\\users\\ankit\\anaconda3\\envs\\tf\\lib\\site-packages (from matplotlib->lime) (3.0.7)\n",
      "Requirement already satisfied: kiwisolver>=1.0.1 in c:\\users\\ankit\\anaconda3\\envs\\tf\\lib\\site-packages (from matplotlib->lime) (1.4.2)\n",
      "Requirement already satisfied: cycler>=0.10 in c:\\users\\ankit\\anaconda3\\envs\\tf\\lib\\site-packages (from matplotlib->lime) (0.11.0)\n",
      "Requirement already satisfied: pytz>=2020.1 in c:\\users\\ankit\\anaconda3\\envs\\tf\\lib\\site-packages (from pandas>=1.1.2->dalex) (2022.1)\n",
      "Requirement already satisfied: smart-open<6.0.0,>=5.0.0 in c:\\users\\ankit\\anaconda3\\envs\\tf\\lib\\site-packages (from pathy>=0.3.5->spacy) (5.2.1)\n",
      "Requirement already satisfied: tenacity>=6.2.0 in c:\\users\\ankit\\anaconda3\\envs\\tf\\lib\\site-packages (from plotly>=4.12.0->dalex) (8.0.1)\n",
      "Requirement already satisfied: typing-extensions>=3.7.4.3 in c:\\users\\ankit\\anaconda3\\envs\\tf\\lib\\site-packages (from pydantic!=1.8,!=1.8.1,<1.9.0,>=1.7.4->spacy) (4.1.1)\n",
      "Requirement already satisfied: ipywidgets>=7.0.0 in c:\\users\\ankit\\anaconda3\\envs\\tf\\lib\\site-packages (from pydeck>=0.1.dev5->streamlit) (7.7.0)\n",
      "Requirement already satisfied: traitlets>=4.3.2 in c:\\users\\ankit\\anaconda3\\envs\\tf\\lib\\site-packages (from pydeck>=0.1.dev5->streamlit) (5.1.1)\n",
      "Requirement already satisfied: ipykernel>=5.1.2 in c:\\users\\ankit\\anaconda3\\envs\\tf\\lib\\site-packages (from pydeck>=0.1.dev5->streamlit) (6.12.1)\n",
      "Requirement already satisfied: psutil in c:\\users\\ankit\\anaconda3\\envs\\tf\\lib\\site-packages (from ipykernel>=5.1.2->pydeck>=0.1.dev5->streamlit) (5.9.0)\n",
      "Requirement already satisfied: ipython>=7.23.1 in c:\\users\\ankit\\anaconda3\\envs\\tf\\lib\\site-packages (from ipykernel>=5.1.2->pydeck>=0.1.dev5->streamlit) (8.2.0)\n",
      "Requirement already satisfied: jupyter-client>=6.1.12 in c:\\users\\ankit\\anaconda3\\envs\\tf\\lib\\site-packages (from ipykernel>=5.1.2->pydeck>=0.1.dev5->streamlit) (7.2.1)\n",
      "Requirement already satisfied: matplotlib-inline>=0.1 in c:\\users\\ankit\\anaconda3\\envs\\tf\\lib\\site-packages (from ipykernel>=5.1.2->pydeck>=0.1.dev5->streamlit) (0.1.3)\n",
      "Requirement already satisfied: nest-asyncio in c:\\users\\ankit\\anaconda3\\envs\\tf\\lib\\site-packages (from ipykernel>=5.1.2->pydeck>=0.1.dev5->streamlit) (1.5.5)\n",
      "Requirement already satisfied: debugpy>=1.0 in c:\\users\\ankit\\anaconda3\\envs\\tf\\lib\\site-packages (from ipykernel>=5.1.2->pydeck>=0.1.dev5->streamlit) (1.6.0)\n",
      "Requirement already satisfied: jedi>=0.16 in c:\\users\\ankit\\anaconda3\\envs\\tf\\lib\\site-packages (from ipython>=7.23.1->ipykernel>=5.1.2->pydeck>=0.1.dev5->streamlit) (0.18.1)\n",
      "Requirement already satisfied: stack-data in c:\\users\\ankit\\anaconda3\\envs\\tf\\lib\\site-packages (from ipython>=7.23.1->ipykernel>=5.1.2->pydeck>=0.1.dev5->streamlit) (0.2.0)\n",
      "Requirement already satisfied: backcall in c:\\users\\ankit\\anaconda3\\envs\\tf\\lib\\site-packages (from ipython>=7.23.1->ipykernel>=5.1.2->pydeck>=0.1.dev5->streamlit) (0.2.0)\n",
      "Requirement already satisfied: prompt-toolkit!=3.0.0,!=3.0.1,<3.1.0,>=2.0.0 in c:\\users\\ankit\\anaconda3\\envs\\tf\\lib\\site-packages (from ipython>=7.23.1->ipykernel>=5.1.2->pydeck>=0.1.dev5->streamlit) (3.0.29)\n",
      "Requirement already satisfied: pygments>=2.4.0 in c:\\users\\ankit\\anaconda3\\envs\\tf\\lib\\site-packages (from ipython>=7.23.1->ipykernel>=5.1.2->pydeck>=0.1.dev5->streamlit) (2.11.2)\n",
      "Requirement already satisfied: pickleshare in c:\\users\\ankit\\anaconda3\\envs\\tf\\lib\\site-packages (from ipython>=7.23.1->ipykernel>=5.1.2->pydeck>=0.1.dev5->streamlit) (0.7.5)\n",
      "Requirement already satisfied: decorator in c:\\users\\ankit\\anaconda3\\envs\\tf\\lib\\site-packages (from ipython>=7.23.1->ipykernel>=5.1.2->pydeck>=0.1.dev5->streamlit) (5.1.1)\n",
      "Requirement already satisfied: jupyterlab-widgets>=1.0.0 in c:\\users\\ankit\\anaconda3\\envs\\tf\\lib\\site-packages (from ipywidgets>=7.0.0->pydeck>=0.1.dev5->streamlit) (1.1.0)\n",
      "Requirement already satisfied: widgetsnbextension~=3.6.0 in c:\\users\\ankit\\anaconda3\\envs\\tf\\lib\\site-packages (from ipywidgets>=7.0.0->pydeck>=0.1.dev5->streamlit) (3.6.0)\n",
      "Requirement already satisfied: ipython-genutils~=0.2.0 in c:\\users\\ankit\\anaconda3\\envs\\tf\\lib\\site-packages (from ipywidgets>=7.0.0->pydeck>=0.1.dev5->streamlit) (0.2.0)\n",
      "Requirement already satisfied: nbformat>=4.2.0 in c:\\users\\ankit\\anaconda3\\envs\\tf\\lib\\site-packages (from ipywidgets>=7.0.0->pydeck>=0.1.dev5->streamlit) (5.3.0)\n",
      "Requirement already satisfied: parso<0.9.0,>=0.8.0 in c:\\users\\ankit\\anaconda3\\envs\\tf\\lib\\site-packages (from jedi>=0.16->ipython>=7.23.1->ipykernel>=5.1.2->pydeck>=0.1.dev5->streamlit) (0.8.3)\n",
      "Requirement already satisfied: MarkupSafe>=2.0 in c:\\users\\ankit\\anaconda3\\envs\\tf\\lib\\site-packages (from jinja2->eli5) (2.1.1)\n",
      "Requirement already satisfied: pyzmq>=22.3 in c:\\users\\ankit\\anaconda3\\envs\\tf\\lib\\site-packages (from jupyter-client>=6.1.12->ipykernel>=5.1.2->pydeck>=0.1.dev5->streamlit) (22.3.0)\n",
      "Requirement already satisfied: jupyter-core>=4.9.2 in c:\\users\\ankit\\anaconda3\\envs\\tf\\lib\\site-packages (from jupyter-client>=6.1.12->ipykernel>=5.1.2->pydeck>=0.1.dev5->streamlit) (4.9.2)\n",
      "Requirement already satisfied: pywin32>=1.0 in c:\\users\\ankit\\anaconda3\\envs\\tf\\lib\\site-packages (from jupyter-core>=4.9.2->jupyter-client>=6.1.12->ipykernel>=5.1.2->pydeck>=0.1.dev5->streamlit) (303)\n",
      "Requirement already satisfied: fastjsonschema in c:\\users\\ankit\\anaconda3\\envs\\tf\\lib\\site-packages (from nbformat>=4.2.0->ipywidgets>=7.0.0->pydeck>=0.1.dev5->streamlit) (2.15.3)\n",
      "Requirement already satisfied: wcwidth in c:\\users\\ankit\\anaconda3\\envs\\tf\\lib\\site-packages (from prompt-toolkit!=3.0.0,!=3.0.1,<3.1.0,>=2.0.0->ipython>=7.23.1->ipykernel>=5.1.2->pydeck>=0.1.dev5->streamlit) (0.2.5)\n",
      "Requirement already satisfied: idna<4,>=2.5 in c:\\users\\ankit\\anaconda3\\envs\\tf\\lib\\site-packages (from requests<3.0.0,>=2.13.0->spacy) (3.3)\n",
      "Requirement already satisfied: urllib3<1.27,>=1.21.1 in c:\\users\\ankit\\anaconda3\\envs\\tf\\lib\\site-packages (from requests<3.0.0,>=2.13.0->spacy) (1.26.8)\n",
      "Requirement already satisfied: certifi>=2017.4.17 in c:\\users\\ankit\\anaconda3\\envs\\tf\\lib\\site-packages (from requests<3.0.0,>=2.13.0->spacy) (2021.10.8)\n",
      "Requirement already satisfied: charset-normalizer~=2.0.0 in c:\\users\\ankit\\anaconda3\\envs\\tf\\lib\\site-packages (from requests<3.0.0,>=2.13.0->spacy) (2.0.4)\n",
      "Requirement already satisfied: imageio>=2.4.1 in c:\\users\\ankit\\anaconda3\\envs\\tf\\lib\\site-packages (from scikit-image>=0.12->lime) (2.17.0)\n",
      "Requirement already satisfied: networkx>=2.2 in c:\\users\\ankit\\anaconda3\\envs\\tf\\lib\\site-packages (from scikit-image>=0.12->lime) (2.8)\n",
      "Requirement already satisfied: tifffile>=2019.7.26 in c:\\users\\ankit\\anaconda3\\envs\\tf\\lib\\site-packages (from scikit-image>=0.12->lime) (2022.4.8)\n",
      "Requirement already satisfied: PyWavelets>=1.1.1 in c:\\users\\ankit\\anaconda3\\envs\\tf\\lib\\site-packages (from scikit-image>=0.12->lime) (1.3.0)\n",
      "Requirement already satisfied: notebook>=4.4.1 in c:\\users\\ankit\\anaconda3\\envs\\tf\\lib\\site-packages (from widgetsnbextension~=3.6.0->ipywidgets>=7.0.0->pydeck>=0.1.dev5->streamlit) (6.4.10)\n",
      "Requirement already satisfied: nbconvert>=5 in c:\\users\\ankit\\anaconda3\\envs\\tf\\lib\\site-packages (from notebook>=4.4.1->widgetsnbextension~=3.6.0->ipywidgets>=7.0.0->pydeck>=0.1.dev5->streamlit) (6.4.5)\n",
      "Requirement already satisfied: prometheus-client in c:\\users\\ankit\\anaconda3\\envs\\tf\\lib\\site-packages (from notebook>=4.4.1->widgetsnbextension~=3.6.0->ipywidgets>=7.0.0->pydeck>=0.1.dev5->streamlit) (0.14.0)\n",
      "Requirement already satisfied: Send2Trash>=1.8.0 in c:\\users\\ankit\\anaconda3\\envs\\tf\\lib\\site-packages (from notebook>=4.4.1->widgetsnbextension~=3.6.0->ipywidgets>=7.0.0->pydeck>=0.1.dev5->streamlit) (1.8.0)\n",
      "Requirement already satisfied: terminado>=0.8.3 in c:\\users\\ankit\\anaconda3\\envs\\tf\\lib\\site-packages (from notebook>=4.4.1->widgetsnbextension~=3.6.0->ipywidgets>=7.0.0->pydeck>=0.1.dev5->streamlit) (0.13.3)\n",
      "Requirement already satisfied: argon2-cffi in c:\\users\\ankit\\anaconda3\\envs\\tf\\lib\\site-packages (from notebook>=4.4.1->widgetsnbextension~=3.6.0->ipywidgets>=7.0.0->pydeck>=0.1.dev5->streamlit) (21.3.0)\n",
      "Requirement already satisfied: jupyterlab-pygments in c:\\users\\ankit\\anaconda3\\envs\\tf\\lib\\site-packages (from nbconvert>=5->notebook>=4.4.1->widgetsnbextension~=3.6.0->ipywidgets>=7.0.0->pydeck>=0.1.dev5->streamlit) (0.1.2)\n",
      "Requirement already satisfied: defusedxml in c:\\users\\ankit\\anaconda3\\envs\\tf\\lib\\site-packages (from nbconvert>=5->notebook>=4.4.1->widgetsnbextension~=3.6.0->ipywidgets>=7.0.0->pydeck>=0.1.dev5->streamlit) (0.7.1)\n",
      "Requirement already satisfied: beautifulsoup4 in c:\\users\\ankit\\anaconda3\\envs\\tf\\lib\\site-packages (from nbconvert>=5->notebook>=4.4.1->widgetsnbextension~=3.6.0->ipywidgets>=7.0.0->pydeck>=0.1.dev5->streamlit) (4.10.0)\n",
      "Requirement already satisfied: mistune<2,>=0.8.1 in c:\\users\\ankit\\anaconda3\\envs\\tf\\lib\\site-packages (from nbconvert>=5->notebook>=4.4.1->widgetsnbextension~=3.6.0->ipywidgets>=7.0.0->pydeck>=0.1.dev5->streamlit) (0.8.4)\n",
      "Requirement already satisfied: pandocfilters>=1.4.1 in c:\\users\\ankit\\anaconda3\\envs\\tf\\lib\\site-packages (from nbconvert>=5->notebook>=4.4.1->widgetsnbextension~=3.6.0->ipywidgets>=7.0.0->pydeck>=0.1.dev5->streamlit) (1.5.0)\n",
      "Requirement already satisfied: bleach in c:\\users\\ankit\\anaconda3\\envs\\tf\\lib\\site-packages (from nbconvert>=5->notebook>=4.4.1->widgetsnbextension~=3.6.0->ipywidgets>=7.0.0->pydeck>=0.1.dev5->streamlit) (4.1.0)\n",
      "Requirement already satisfied: nbclient<0.6.0,>=0.5.0 in c:\\users\\ankit\\anaconda3\\envs\\tf\\lib\\site-packages (from nbconvert>=5->notebook>=4.4.1->widgetsnbextension~=3.6.0->ipywidgets>=7.0.0->pydeck>=0.1.dev5->streamlit) (0.5.13)\n",
      "Requirement already satisfied: testpath in c:\\users\\ankit\\anaconda3\\envs\\tf\\lib\\site-packages (from nbconvert>=5->notebook>=4.4.1->widgetsnbextension~=3.6.0->ipywidgets>=7.0.0->pydeck>=0.1.dev5->streamlit) (0.6.0)\n",
      "Requirement already satisfied: pywinpty>=1.1.0 in c:\\users\\ankit\\anaconda3\\envs\\tf\\lib\\site-packages (from terminado>=0.8.3->notebook>=4.4.1->widgetsnbextension~=3.6.0->ipywidgets>=7.0.0->pydeck>=0.1.dev5->streamlit) (2.0.5)\n",
      "Requirement already satisfied: argon2-cffi-bindings in c:\\users\\ankit\\anaconda3\\envs\\tf\\lib\\site-packages (from argon2-cffi->notebook>=4.4.1->widgetsnbextension~=3.6.0->ipywidgets>=7.0.0->pydeck>=0.1.dev5->streamlit) (21.2.0)\n",
      "Requirement already satisfied: cffi>=1.0.1 in c:\\users\\ankit\\anaconda3\\envs\\tf\\lib\\site-packages (from argon2-cffi-bindings->argon2-cffi->notebook>=4.4.1->widgetsnbextension~=3.6.0->ipywidgets>=7.0.0->pydeck>=0.1.dev5->streamlit) (1.15.0)\n",
      "Requirement already satisfied: pycparser in c:\\users\\ankit\\anaconda3\\envs\\tf\\lib\\site-packages (from cffi>=1.0.1->argon2-cffi-bindings->argon2-cffi->notebook>=4.4.1->widgetsnbextension~=3.6.0->ipywidgets>=7.0.0->pydeck>=0.1.dev5->streamlit) (2.21)\n",
      "Requirement already satisfied: soupsieve>1.2 in c:\\users\\ankit\\anaconda3\\envs\\tf\\lib\\site-packages (from beautifulsoup4->nbconvert>=5->notebook>=4.4.1->widgetsnbextension~=3.6.0->ipywidgets>=7.0.0->pydeck>=0.1.dev5->streamlit) (2.3.1)\n",
      "Requirement already satisfied: webencodings in c:\\users\\ankit\\anaconda3\\envs\\tf\\lib\\site-packages (from bleach->nbconvert>=5->notebook>=4.4.1->widgetsnbextension~=3.6.0->ipywidgets>=7.0.0->pydeck>=0.1.dev5->streamlit) (0.5.1)\n",
      "Requirement already satisfied: asttokens in c:\\users\\ankit\\anaconda3\\envs\\tf\\lib\\site-packages (from stack-data->ipython>=7.23.1->ipykernel>=5.1.2->pydeck>=0.1.dev5->streamlit) (2.0.5)\n",
      "Requirement already satisfied: executing in c:\\users\\ankit\\anaconda3\\envs\\tf\\lib\\site-packages (from stack-data->ipython>=7.23.1->ipykernel>=5.1.2->pydeck>=0.1.dev5->streamlit) (0.8.3)\n",
      "Requirement already satisfied: pure-eval in c:\\users\\ankit\\anaconda3\\envs\\tf\\lib\\site-packages (from stack-data->ipython>=7.23.1->ipykernel>=5.1.2->pydeck>=0.1.dev5->streamlit) (0.2.2)\n",
      "Requirement already satisfied: tzdata in c:\\users\\ankit\\anaconda3\\envs\\tf\\lib\\site-packages (from tzlocal->streamlit) (2022.1)\n",
      "Requirement already satisfied: pytz-deprecation-shim in c:\\users\\ankit\\anaconda3\\envs\\tf\\lib\\site-packages (from tzlocal->streamlit) (0.1.0.post0)\n",
      "Note: you may need to restart the kernel to use updated packages.\n"
     ]
    }
   ],
   "source": [
    "pip install eli5 lime dalex neattext spacy seaborn altair streamlit scikit-learn"
   ]
  },
  {
   "cell_type": "code",
   "execution_count": 3,
   "id": "39be66e9",
   "metadata": {},
   "outputs": [],
   "source": [
    "import pandas as pd\n",
    "import numpy as np"
   ]
  },
  {
   "cell_type": "code",
   "execution_count": 4,
   "id": "dbb87861",
   "metadata": {},
   "outputs": [],
   "source": [
    "import seaborn as sns"
   ]
  },
  {
   "cell_type": "markdown",
   "id": "4d98101c",
   "metadata": {},
   "source": []
  },
  {
   "cell_type": "code",
   "execution_count": 5,
   "id": "fbbacd98",
   "metadata": {},
   "outputs": [],
   "source": [
    "import neattext.functions as nfx"
   ]
  },
  {
   "cell_type": "code",
   "execution_count": 6,
   "id": "431ab919",
   "metadata": {},
   "outputs": [],
   "source": [
    "from sklearn.linear_model import LogisticRegression\n",
    "from sklearn.naive_bayes import MultinomialNB\n",
    "\n",
    "from sklearn.feature_extraction.text import CountVectorizer\n",
    "from sklearn.model_selection import train_test_split\n",
    "from sklearn.metrics import accuracy_score, classification_report, confusion_matrix"
   ]
  },
  {
   "cell_type": "code",
   "execution_count": 13,
   "id": "415cef66",
   "metadata": {},
   "outputs": [],
   "source": [
    "df= pd.read_csv(\"emotion_dataset_2.csv\")"
   ]
  },
  {
   "cell_type": "code",
   "execution_count": 14,
   "id": "fafce2ac",
   "metadata": {},
   "outputs": [
    {
     "name": "stdout",
     "output_type": "stream",
     "text": [
      "       Unnamed: 0  Emotion                                               Text\n",
      "0               0  neutral                                             Why ? \n",
      "1               1      joy    Sage Act upgrade on my to do list for tommorow.\n",
      "2               2  sadness  ON THE WAY TO MY HOMEGIRL BABY FUNERAL!!! MAN ...\n",
      "3               3      joy   Such an eye ! The true hazel eye-and so brill...\n",
      "4               4      joy  @Iluvmiasantos ugh babe.. hugggzzz for u .!  b...\n",
      "...           ...      ...                                                ...\n",
      "34792       34792    anger                                         Go to hell\n",
      "34793       34793      joy                             This is a cool subject\n",
      "34794       34794  neutral                             There is nothing to do\n",
      "34795       34795    anger                                     Fuck this shit\n",
      "34796       34796     fear                                He is gonna kill me\n",
      "\n",
      "[34797 rows x 3 columns]\n"
     ]
    }
   ],
   "source": [
    "print(df)"
   ]
  },
  {
   "cell_type": "code",
   "execution_count": 15,
   "id": "b436697e",
   "metadata": {},
   "outputs": [
    {
     "data": {
      "text/plain": [
       "joy         11036\n",
       "sadness      6729\n",
       "fear         5411\n",
       "anger        4301\n",
       "surprise     4062\n",
       "neutral      2255\n",
       "disgust       856\n",
       "shame         146\n",
       "Anger           1\n",
       "Name: Emotion, dtype: int64"
      ]
     },
     "execution_count": 15,
     "metadata": {},
     "output_type": "execute_result"
    }
   ],
   "source": [
    "df['Emotion'].value_counts()"
   ]
  },
  {
   "cell_type": "code",
   "execution_count": 16,
   "id": "cd387456",
   "metadata": {},
   "outputs": [
    {
     "data": {
      "text/plain": [
       "<AxesSubplot:xlabel='Emotion', ylabel='count'>"
      ]
     },
     "execution_count": 16,
     "metadata": {},
     "output_type": "execute_result"
    },
    {
     "data": {
      "image/png": "[encoded data removed]",
      "text/plain": [
       "<Figure size 432x288 with 1 Axes>"
      ]
     },
     "metadata": {
      "needs_background": "light"
     },
     "output_type": "display_data"
    }
   ],
   "source": [
    "sns.countplot(x='Emotion',data=df)"
   ]
  },
  {
   "cell_type": "code",
   "execution_count": 17,
   "id": "d0de4e71",
   "metadata": {},
   "outputs": [
    {
     "data": {
      "text/plain": [
       "['BTC_ADDRESS_REGEX',\n",
       " 'CURRENCY_REGEX',\n",
       " 'CURRENCY_SYMB_REGEX',\n",
       " 'Counter',\n",
       " 'DATE_REGEX',\n",
       " 'EMAIL_REGEX',\n",
       " 'EMOJI_REGEX',\n",
       " 'HASTAG_REGEX',\n",
       " 'MASTERCard_REGEX',\n",
       " 'MD5_SHA_REGEX',\n",
       " 'MOST_COMMON_PUNCT_REGEX',\n",
       " 'NUMBERS_REGEX',\n",
       " 'PHONE_REGEX',\n",
       " 'PoBOX_REGEX',\n",
       " 'SPECIAL_CHARACTERS_REGEX',\n",
       " 'STOPWORDS',\n",
       " 'STOPWORDS_de',\n",
       " 'STOPWORDS_en',\n",
       " 'STOPWORDS_es',\n",
       " 'STOPWORDS_fr',\n",
       " 'STOPWORDS_ru',\n",
       " 'STOPWORDS_yo',\n",
       " 'STREET_ADDRESS_REGEX',\n",
       " 'TextFrame',\n",
       " 'URL_PATTERN',\n",
       " 'USER_HANDLES_REGEX',\n",
       " 'VISACard_REGEX',\n",
       " '__builtins__',\n",
       " '__cached__',\n",
       " '__doc__',\n",
       " '__file__',\n",
       " '__generate_text',\n",
       " '__loader__',\n",
       " '__name__',\n",
       " '__numbers_dict',\n",
       " '__package__',\n",
       " '__spec__',\n",
       " '_lex_richness_herdan',\n",
       " '_lex_richness_maas_ttr',\n",
       " 'clean_text',\n",
       " 'defaultdict',\n",
       " 'digit2words',\n",
       " 'extract_btc_address',\n",
       " 'extract_currencies',\n",
       " 'extract_currency_symbols',\n",
       " 'extract_dates',\n",
       " 'extract_emails',\n",
       " 'extract_emojis',\n",
       " 'extract_hashtags',\n",
       " 'extract_html_tags',\n",
       " 'extract_mastercard_addr',\n",
       " 'extract_md5sha',\n",
       " 'extract_numbers',\n",
       " 'extract_pattern',\n",
       " 'extract_phone_numbers',\n",
       " 'extract_postoffice_box',\n",
       " 'extract_shortwords',\n",
       " 'extract_special_characters',\n",
       " 'extract_stopwords',\n",
       " 'extract_street_address',\n",
       " 'extract_terms_in_bracket',\n",
       " 'extract_urls',\n",
       " 'extract_userhandles',\n",
       " 'extract_visacard_addr',\n",
       " 'fix_contractions',\n",
       " 'generate_sentence',\n",
       " 'hamming_distance',\n",
       " 'inverse_df',\n",
       " 'lexical_richness',\n",
       " 'markov_chain',\n",
       " 'math',\n",
       " 'nlargest',\n",
       " 'normalize',\n",
       " 'num2words',\n",
       " 'random',\n",
       " 're',\n",
       " 'read_txt',\n",
       " 'remove_accents',\n",
       " 'remove_bad_quotes',\n",
       " 'remove_btc_address',\n",
       " 'remove_currencies',\n",
       " 'remove_currency_symbols',\n",
       " 'remove_custom_pattern',\n",
       " 'remove_custom_words',\n",
       " 'remove_dates',\n",
       " 'remove_emails',\n",
       " 'remove_emojis',\n",
       " 'remove_hashtags',\n",
       " 'remove_html_tags',\n",
       " 'remove_mastercard_addr',\n",
       " 'remove_md5sha',\n",
       " 'remove_multiple_spaces',\n",
       " 'remove_non_ascii',\n",
       " 'remove_numbers',\n",
       " 'remove_phone_numbers',\n",
       " 'remove_postoffice_box',\n",
       " 'remove_puncts',\n",
       " 'remove_punctuations',\n",
       " 'remove_shortwords',\n",
       " 'remove_special_characters',\n",
       " 'remove_stopwords',\n",
       " 'remove_street_address',\n",
       " 'remove_terms_in_bracket',\n",
       " 'remove_urls',\n",
       " 'remove_userhandles',\n",
       " 'remove_visacard_addr',\n",
       " 'replace_bad_quotes',\n",
       " 'replace_currencies',\n",
       " 'replace_currency_symbols',\n",
       " 'replace_dates',\n",
       " 'replace_emails',\n",
       " 'replace_emojis',\n",
       " 'replace_numbers',\n",
       " 'replace_phone_numbers',\n",
       " 'replace_special_characters',\n",
       " 'replace_term',\n",
       " 'replace_urls',\n",
       " 'string',\n",
       " 'term_freq',\n",
       " 'to_txt',\n",
       " 'unicodedata',\n",
       " 'word_freq',\n",
       " 'word_length_freq']"
      ]
     },
     "execution_count": 17,
     "metadata": {},
     "output_type": "execute_result"
    }
   ],
   "source": [
    "dir(nfx)"
   ]
  },
  {
   "cell_type": "code",
   "execution_count": 18,
   "id": "360694a5",
   "metadata": {},
   "outputs": [],
   "source": [
    "df['clean_Text']=df['Text'].apply(nfx.remove_userhandles)"
   ]
  },
  {
   "cell_type": "code",
   "execution_count": 19,
   "id": "5015fff4",
   "metadata": {},
   "outputs": [
    {
     "name": "stdout",
     "output_type": "stream",
     "text": [
      "0                                                   Why ? \n",
      "1          Sage Act upgrade on my to do list for tommorow.\n",
      "2        ON THE WAY TO MY HOMEGIRL BABY FUNERAL!!! MAN ...\n",
      "3         Such an eye ! The true hazel eye-and so brill...\n",
      "4          ugh babe.. hugggzzz for u .!  babe naamazed ...\n",
      "                               ...                        \n",
      "34792                                           Go to hell\n",
      "34793                               This is a cool subject\n",
      "34794                               There is nothing to do\n",
      "34795                                       Fuck this shit\n",
      "34796                                  He is gonna kill me\n",
      "Name: clean_Text, Length: 34797, dtype: object\n"
     ]
    }
   ],
   "source": [
    "print(df['clean_Text'])"
   ]
  },
  {
   "cell_type": "code",
   "execution_count": 20,
   "id": "c26a364c",
   "metadata": {},
   "outputs": [],
   "source": [
    "df['clean_Text']=df['clean_Text'].apply(nfx.remove_stopwords)"
   ]
  },
  {
   "cell_type": "code",
   "execution_count": 21,
   "id": "848ca45d",
   "metadata": {},
   "outputs": [
    {
     "data": {
      "text/html": [
       "<div>\n",
       "<style scoped>\n",
       "    .dataframe tbody tr th:only-of-type {\n",
       "        vertical-align: middle;\n",
       "    }\n",
       "\n",
       "    .dataframe tbody tr th {\n",
       "        vertical-align: top;\n",
       "    }\n",
       "\n",
       "    .dataframe thead th {\n",
       "        text-align: right;\n",
       "    }\n",
       "</style>\n",
       "<table border=\"1\" class=\"dataframe\">\n",
       "  <thead>\n",
       "    <tr style=\"text-align: right;\">\n",
       "      <th></th>\n",
       "      <th>Unnamed: 0</th>\n",
       "      <th>Emotion</th>\n",
       "      <th>Text</th>\n",
       "      <th>clean_Text</th>\n",
       "    </tr>\n",
       "  </thead>\n",
       "  <tbody>\n",
       "    <tr>\n",
       "      <th>0</th>\n",
       "      <td>0</td>\n",
       "      <td>neutral</td>\n",
       "      <td>Why ?</td>\n",
       "      <td>?</td>\n",
       "    </tr>\n",
       "    <tr>\n",
       "      <th>1</th>\n",
       "      <td>1</td>\n",
       "      <td>joy</td>\n",
       "      <td>Sage Act upgrade on my to do list for tommorow.</td>\n",
       "      <td>Sage Act upgrade list tommorow.</td>\n",
       "    </tr>\n",
       "    <tr>\n",
       "      <th>2</th>\n",
       "      <td>2</td>\n",
       "      <td>sadness</td>\n",
       "      <td>ON THE WAY TO MY HOMEGIRL BABY FUNERAL!!! MAN ...</td>\n",
       "      <td>WAY HOMEGIRL BABY FUNERAL!!! MAN HATE FUNERALS...</td>\n",
       "    </tr>\n",
       "    <tr>\n",
       "      <th>3</th>\n",
       "      <td>3</td>\n",
       "      <td>joy</td>\n",
       "      <td>Such an eye ! The true hazel eye-and so brill...</td>\n",
       "      <td>eye ! true hazel eye-and brilliant ! Regular f...</td>\n",
       "    </tr>\n",
       "    <tr>\n",
       "      <th>4</th>\n",
       "      <td>4</td>\n",
       "      <td>joy</td>\n",
       "      <td>@Iluvmiasantos ugh babe.. hugggzzz for u .!  b...</td>\n",
       "      <td>ugh babe.. hugggzzz u .! babe naamazed nga ako...</td>\n",
       "    </tr>\n",
       "    <tr>\n",
       "      <th>...</th>\n",
       "      <td>...</td>\n",
       "      <td>...</td>\n",
       "      <td>...</td>\n",
       "      <td>...</td>\n",
       "    </tr>\n",
       "    <tr>\n",
       "      <th>34792</th>\n",
       "      <td>34792</td>\n",
       "      <td>anger</td>\n",
       "      <td>Go to hell</td>\n",
       "      <td>hell</td>\n",
       "    </tr>\n",
       "    <tr>\n",
       "      <th>34793</th>\n",
       "      <td>34793</td>\n",
       "      <td>joy</td>\n",
       "      <td>This is a cool subject</td>\n",
       "      <td>cool subject</td>\n",
       "    </tr>\n",
       "    <tr>\n",
       "      <th>34794</th>\n",
       "      <td>34794</td>\n",
       "      <td>neutral</td>\n",
       "      <td>There is nothing to do</td>\n",
       "      <td></td>\n",
       "    </tr>\n",
       "    <tr>\n",
       "      <th>34795</th>\n",
       "      <td>34795</td>\n",
       "      <td>anger</td>\n",
       "      <td>Fuck this shit</td>\n",
       "      <td>Fuck shit</td>\n",
       "    </tr>\n",
       "    <tr>\n",
       "      <th>34796</th>\n",
       "      <td>34796</td>\n",
       "      <td>fear</td>\n",
       "      <td>He is gonna kill me</td>\n",
       "      <td>gonna kill</td>\n",
       "    </tr>\n",
       "  </tbody>\n",
       "</table>\n",
       "<p>34797 rows × 4 columns</p>\n",
       "</div>"
      ],
      "text/plain": [
       "       Unnamed: 0  Emotion                                               Text  \\\n",
       "0               0  neutral                                             Why ?    \n",
       "1               1      joy    Sage Act upgrade on my to do list for tommorow.   \n",
       "2               2  sadness  ON THE WAY TO MY HOMEGIRL BABY FUNERAL!!! MAN ...   \n",
       "3               3      joy   Such an eye ! The true hazel eye-and so brill...   \n",
       "4               4      joy  @Iluvmiasantos ugh babe.. hugggzzz for u .!  b...   \n",
       "...           ...      ...                                                ...   \n",
       "34792       34792    anger                                         Go to hell   \n",
       "34793       34793      joy                             This is a cool subject   \n",
       "34794       34794  neutral                             There is nothing to do   \n",
       "34795       34795    anger                                     Fuck this shit   \n",
       "34796       34796     fear                                He is gonna kill me   \n",
       "\n",
       "                                              clean_Text  \n",
       "0                                                      ?  \n",
       "1                        Sage Act upgrade list tommorow.  \n",
       "2      WAY HOMEGIRL BABY FUNERAL!!! MAN HATE FUNERALS...  \n",
       "3      eye ! true hazel eye-and brilliant ! Regular f...  \n",
       "4      ugh babe.. hugggzzz u .! babe naamazed nga ako...  \n",
       "...                                                  ...  \n",
       "34792                                               hell  \n",
       "34793                                       cool subject  \n",
       "34794                                                     \n",
       "34795                                          Fuck shit  \n",
       "34796                                         gonna kill  \n",
       "\n",
       "[34797 rows x 4 columns]"
      ]
     },
     "execution_count": 21,
     "metadata": {},
     "output_type": "execute_result"
    }
   ],
   "source": [
    "df\n"
   ]
  },
  {
   "cell_type": "code",
   "execution_count": 22,
   "id": "7f6772ec",
   "metadata": {},
   "outputs": [],
   "source": [
    "xfeatures=df['clean_Text']\n",
    "ylabels=df['Emotion']"
   ]
  },
  {
   "cell_type": "code",
   "execution_count": 23,
   "id": "001b4a3e",
   "metadata": {},
   "outputs": [],
   "source": [
    "x_train,x_test,y_train,y_test=train_test_split(xfeatures,ylabels,test_size=0.3,random_state=42)"
   ]
  },
  {
   "cell_type": "code",
   "execution_count": 24,
   "id": "49b9012b",
   "metadata": {},
   "outputs": [],
   "source": [
    "#Build Pipeline\n",
    "from sklearn.pipeline import Pipeline"
   ]
  },
  {
   "cell_type": "code",
   "execution_count": 25,
   "id": "a175100e",
   "metadata": {},
   "outputs": [],
   "source": [
    "pipe_lr=Pipeline(steps=[('cv',CountVectorizer()),('lr',LogisticRegression(solver='lbfgs', max_iter=1000))])"
   ]
  },
  {
   "cell_type": "code",
   "execution_count": 26,
   "id": "9bd38b91",
   "metadata": {},
   "outputs": [
    {
     "data": {
      "text/plain": [
       "Pipeline(steps=[('cv', CountVectorizer()),\n",
       "                ('lr', LogisticRegression(max_iter=1000))])"
      ]
     },
     "execution_count": 26,
     "metadata": {},
     "output_type": "execute_result"
    }
   ],
   "source": [
    "#Train Data\n",
    "pipe_lr.fit(x_train,y_train)"
   ]
  },
  {
   "cell_type": "code",
   "execution_count": null,
   "id": "e1c564cd",
   "metadata": {},
   "outputs": [],
   "source": []
  },
  {
   "cell_type": "code",
   "execution_count": 27,
   "id": "34ec6d29",
   "metadata": {},
   "outputs": [
    {
     "data": {
      "text/plain": [
       "0.6256704980842912"
      ]
     },
     "execution_count": 27,
     "metadata": {},
     "output_type": "execute_result"
    }
   ],
   "source": [
    "pipe_lr.score(x_test,y_test)"
   ]
  },
  {
   "cell_type": "code",
   "execution_count": 28,
   "id": "1c3a761c",
   "metadata": {},
   "outputs": [],
   "source": [
    "sentence='This is interensting Subject'"
   ]
  },
  {
   "cell_type": "code",
   "execution_count": 29,
   "id": "468d4204",
   "metadata": {},
   "outputs": [
    {
     "data": {
      "text/plain": [
       "array(['anger'], dtype=object)"
      ]
     },
     "execution_count": 29,
     "metadata": {},
     "output_type": "execute_result"
    }
   ],
   "source": [
    "pipe_lr.predict([sentence])"
   ]
  },
  {
   "cell_type": "code",
   "execution_count": 30,
   "id": "d27f3244",
   "metadata": {},
   "outputs": [
    {
     "data": {
      "text/plain": [
       "array([[0.26103797, 0.03406828, 0.11399556, 0.21502791, 0.22518911,\n",
       "        0.09350317, 0.00281091, 0.05436708]])"
      ]
     },
     "execution_count": 30,
     "metadata": {},
     "output_type": "execute_result"
    }
   ],
   "source": [
    "pipe_lr.predict_proba([sentence])"
   ]
  },
  {
   "cell_type": "code",
   "execution_count": 31,
   "id": "90693ca3",
   "metadata": {},
   "outputs": [
    {
     "data": {
      "text/plain": [
       "array(['anger', 'disgust', 'fear', 'joy', 'neutral', 'sadness', 'shame',\n",
       "       'surprise'], dtype=object)"
      ]
     },
     "execution_count": 31,
     "metadata": {},
     "output_type": "execute_result"
    }
   ],
   "source": [
    "pipe_lr.classes_"
   ]
  },
  {
   "cell_type": "code",
   "execution_count": 32,
   "id": "4ae785b3",
   "metadata": {},
   "outputs": [],
   "source": [
    "import joblib\n",
    "pipeline_file= open(\"emotion_classifier_pipe_lr2.pkl\",\"wb\")\n",
    "joblib.dump(pipe_lr,pipeline_file)\n",
    "pipeline_file.close()"
   ]
  },
  {
   "cell_type": "code",
   "execution_count": null,
   "id": "2025e0f0",
   "metadata": {},
   "outputs": [],
   "source": []
  }
 ],
 "metadata": {
  "kernelspec": {
   "display_name": "Python 3 (ipykernel)",
   "language": "python",
   "name": "python3"
  },
  "language_info": {
   "codemirror_mode": {
    "name": "ipython",
    "version": 3
   },
   "file_extension": ".py",
   "mimetype": "text/x-python",
   "name": "python",
   "nbconvert_exporter": "python",
   "pygments_lexer": "ipython3",
   "version": "3.9.11"
  }
 },
 "nbformat": 4,
 "nbformat_minor": 5
}
